{
 "cells": [
  {
   "cell_type": "code",
   "execution_count": 23,
   "id": "5c71e945-89c3-4e80-94e2-a78e0fbe11b8",
   "metadata": {},
   "outputs": [],
   "source": [
    "import dlib\n",
    "import cv2\n",
    "\n",
    "cap=cv2.VideoCapture(0)\n",
    "detect=dlib.get_frontal_face_detector()\n",
    "pred=dlib.shape_predictor('shape_predictor_68_face_landmarks.dat')\n",
    "\n",
    "while True:\n",
    "    _,frame=cap.read()\n",
    "    \n",
    "    gray=cv2.cvtColor(frame,cv2.COLOR_BGR2GRAY)\n",
    "    faces=detect(gray)\n",
    "    ############################################################\n",
    "    for face in faces:\n",
    "        # x1=face.left()\n",
    "        # y1=face.top()\n",
    "        # x2=face.right()\n",
    "        # y2=face.bottom()\n",
    "        # for this to drow rectangle if you need\n",
    "        landmark=pred(gray,face)\n",
    "       ######################################################### \n",
    "        for i in range(0,68):\n",
    "            \n",
    "            x=landmark.part(i).x\n",
    "            y=landmark.part(i).y\n",
    "            \n",
    "            s1=landmark.part(49).x\n",
    "            s2=landmark.part(4).x\n",
    "            s3=landmark.part(51).x\n",
    "            s4=landmark.part(14).x\n",
    "            if (s1-s2)>60 and (s4-s3)>50:\n",
    "                statue=\"sad face\"\n",
    "            else:\n",
    "                statue=\"smile face\"\n",
    "            \n",
    "            cv2.circle(frame,(x,y),2,(0,200,0),-1)\n",
    "        cv2.putText(frame,statue,(x-100,y-220),cv2.FONT_HERSHEY_COMPLEX,1,(0,250,0))\n",
    "    #############################################################        \n",
    "    cv2.imshow('frame',frame)\n",
    "    # print(s1,\"   \",s2)\n",
    "    ############################################################\n",
    "    \n",
    "    key = cv2.waitKey(1)\n",
    "    if key == 27:\n",
    "        break\n",
    "cap.release()\n",
    "cv2.destroyAllWindows()        \n",
    "    "
   ]
  },
  {
   "cell_type": "code",
   "execution_count": null,
   "id": "a5f8ad09-06c7-4d4f-8a08-9c31d5942e44",
   "metadata": {},
   "outputs": [],
   "source": []
  }
 ],
 "metadata": {
  "kernelspec": {
   "display_name": "Python 3 (ipykernel)",
   "language": "python",
   "name": "python3"
  },
  "language_info": {
   "codemirror_mode": {
    "name": "ipython",
    "version": 3
   },
   "file_extension": ".py",
   "mimetype": "text/x-python",
   "name": "python",
   "nbconvert_exporter": "python",
   "pygments_lexer": "ipython3",
   "version": "3.10.2"
  }
 },
 "nbformat": 4,
 "nbformat_minor": 5
}
